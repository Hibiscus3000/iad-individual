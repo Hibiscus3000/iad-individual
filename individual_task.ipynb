{
 "cells": [
  {
   "cell_type": "markdown",
   "id": "e95b080a",
   "metadata": {},
   "source": [
    "# Название тренировочного и тестового датасетов"
   ]
  },
  {
   "cell_type": "code",
   "execution_count": 51,
   "id": "initial_id",
   "metadata": {
    "ExecuteTime": {
     "end_time": "2023-12-24T14:25:00.313481412Z",
     "start_time": "2023-12-24T14:25:00.312922151Z"
    },
    "collapsed": true
   },
   "outputs": [],
   "source": [
    "training_dataset_name = 'train2023.csv'\n",
    "testing_dataset_name = 'test2023.csv'"
   ]
  },
  {
   "cell_type": "markdown",
   "id": "eb33d627",
   "metadata": {},
   "source": [
    "# Чтение датасетов из csv-файлов с помощью библиотеки pandas"
   ]
  },
  {
   "cell_type": "code",
   "execution_count": 52,
   "id": "f0ec97b01c4a4981",
   "metadata": {
    "ExecuteTime": {
     "end_time": "2023-12-24T14:25:00.889789878Z",
     "start_time": "2023-12-24T14:25:00.313243292Z"
    },
    "collapsed": false
   },
   "outputs": [],
   "source": [
    "import os\n",
    "import pandas as pd\n",
    "\n",
    "train_df = pd.read_csv(os.path.join('data', training_dataset_name), sep=';', header=None)\n",
    "test_df = pd.read_csv(os.path.join('data', testing_dataset_name), sep=';', header=None)\n",
    "\n",
    "classes = [1, 2, 3]"
   ]
  },
  {
   "cell_type": "markdown",
   "id": "7fa19a45",
   "metadata": {},
   "source": [
    "# Настройка логгирования"
   ]
  },
  {
   "cell_type": "code",
   "execution_count": 53,
   "id": "454d5adb2e0a427",
   "metadata": {
    "ExecuteTime": {
     "end_time": "2023-12-24T14:25:00.890747330Z",
     "start_time": "2023-12-24T14:25:00.885169837Z"
    },
    "collapsed": false
   },
   "outputs": [],
   "source": [
    "import logging\n",
    "\n",
    "logging.basicConfig(level=logging.INFO)"
   ]
  },
  {
   "cell_type": "markdown",
   "id": "ae87f8ef",
   "metadata": {},
   "source": [
    "# `OutlierTransformer`\n",
    "Обертка над классом детектора выбросов. Необходим по причине того, что библиотека scikit-learn предполагает использование детектора выбросов не для преобработки датасета, а только в качестве классификатора. Метод `fit_transform()` очищает тренировочную выборку от выбросов, см. комментарии в коде."
   ]
  },
  {
   "cell_type": "code",
   "execution_count": 54,
   "id": "ede138860eb526a4",
   "metadata": {
    "ExecuteTime": {
     "end_time": "2023-12-24T14:25:02.038229585Z",
     "start_time": "2023-12-24T14:25:00.897416696Z"
    },
    "collapsed": false
   },
   "outputs": [],
   "source": [
    "import numpy as np\n",
    "\n",
    "\n",
    "class OutlierTransformer:\n",
    "\n",
    "    def __init__(self, outlier_detector, class_labels):\n",
    "        self._class_labels = class_labels\n",
    "        self._outlier_detector = outlier_detector\n",
    "\n",
    "    def fit_transform(self, X, y, logging_level):\n",
    "        # Размерность массива X до очистки от выбросов\n",
    "        before = X.shape\n",
    "        # Разделение объектов массива X по классам\n",
    "        X_separated_by_class = {i: X[y == i, :] for i in self._class_labels}\n",
    "        # Непосредственно очистка массива X от выбросов c помощью объекта библиотечного класса self._outlier_detector\n",
    "        X_separated_by_class_cleared = {i:\n",
    "                                            X_separated_by_class[i][\n",
    "                                            self._outlier_detector.fit_predict(X=X_separated_by_class[i]) == 1, :] for i\n",
    "                                        in\n",
    "                                        self._class_labels}\n",
    "        # Формирование массива X, очищенного от выбросов\n",
    "        X = np.vstack(list(X_separated_by_class_cleared.values()))\n",
    "        # Размерность массива X после очистки от выбросов\n",
    "        after = X.shape\n",
    "        # Формирование нового массива целевых признаков\n",
    "        y = np.hstack([np.full(X_separated_by_class_cleared[i].shape[0], i) for i in self._class_labels])\n",
    "        logging.log(level=logging_level, msg=f'CLEARING OUTLIERS: {before} -> {after}')\n",
    "\n",
    "        return X, y"
   ]
  },
  {
   "cell_type": "markdown",
   "id": "a1dcf1b6",
   "metadata": {},
   "source": [
    "# `Scheme`\n",
    "Обертка над библиотечным классом `Pipiline`, нужна главным образом для того, чтобы использовать определенный выше класс `OutlierTransformer`, так как библиотека не предполагает, что \"трансформеры\" будет изменять размер датасета."
   ]
  },
  {
   "cell_type": "code",
   "execution_count": 55,
   "id": "dcf92b9e7b5e1ab1",
   "metadata": {
    "ExecuteTime": {
     "end_time": "2023-12-24T14:25:02.119696350Z",
     "start_time": "2023-12-24T14:25:02.041517493Z"
    },
    "collapsed": false
   },
   "outputs": [],
   "source": [
    "from sklearn.pipeline import Pipeline\n",
    "\n",
    "\n",
    "class Scheme:\n",
    "\n",
    "    def __init__(self, pipeline: Pipeline, outlier_detector=None, class_labels=classes, hyperparams_str: str = None):\n",
    "        if outlier_detector is not None:\n",
    "            self._outlier_transformer = OutlierTransformer(outlier_detector=outlier_detector, class_labels=classes)\n",
    "        else:\n",
    "            self._outlier_transformer = None\n",
    "        self._pipeline = pipeline\n",
    "\n",
    "        self.hyperparams = hyperparams_str\n",
    "\n",
    "    def fit(self, X, y, logging_level=logging.INFO):\n",
    "        if self._outlier_transformer is not None:\n",
    "            X, y = self._outlier_transformer.fit_transform(X=X, y=y, logging_level=logging_level)\n",
    "        self._pipeline.fit(X=X, y=y)\n",
    "\n",
    "    def predict(self, X):\n",
    "        return self._pipeline.predict(X=X)\n",
    "    \n",
    "    def predict_proba(self, X): \n",
    "        return np.max(self._pipeline.predict_proba(X=X), axis=1)"
   ]
  },
  {
   "cell_type": "markdown",
   "id": "d7607de8",
   "metadata": {},
   "source": [
    "# Обучение гиперпараметров\n",
    "Функция `tune_hyperparams()` ответственна за обучение гиперпараметров. Обучение происходит с помощью кросс-валидации с количество разбиений по умолчанию равным 5. Лучшая схема - та, которой соответствует наибольшее среднее значение по всем разбиениям метрики `metric`.   "
   ]
  },
  {
   "cell_type": "code",
   "execution_count": 56,
   "id": "18e28abfbc1432dd",
   "metadata": {
    "ExecuteTime": {
     "end_time": "2023-12-24T14:25:02.285063531Z",
     "start_time": "2023-12-24T14:25:02.084003792Z"
    },
    "collapsed": false
   },
   "outputs": [],
   "source": [
    "from sklearn.model_selection import StratifiedKFold\n",
    "\n",
    "\n",
    "def tune_hyperparams(schemas, X, y, metric: callable, n_splits: int = 5):\n",
    "    skf = StratifiedKFold(n_splits=n_splits)\n",
    "    best_scheme = None\n",
    "    best_score = None\n",
    "    for scheme in schemas:\n",
    "        score = 0\n",
    "        logging.debug(scheme.hyperparams)\n",
    "        for train, valid in skf.split(X, y):\n",
    "            scheme.fit(X=X[train], y=y[train], logging_level=logging.DEBUG)\n",
    "            y_predict = scheme.predict(X[valid])\n",
    "            score += metric(y[valid], y_predict)\n",
    "        if best_score is None or score > best_score:\n",
    "            best_score = score\n",
    "            best_scheme = scheme\n",
    "        logging.debug('metric = ' + str(score / n_splits))\n",
    "    return best_scheme, best_score / n_splits"
   ]
  },
  {
   "cell_type": "markdown",
   "id": "85da7e02",
   "metadata": {},
   "source": [
    "# Получение тренировочной и тестовой выборки"
   ]
  },
  {
   "cell_type": "code",
   "execution_count": 57,
   "id": "493e61109b2dc808",
   "metadata": {
    "ExecuteTime": {
     "end_time": "2023-12-24T14:25:02.286732014Z",
     "start_time": "2023-12-24T14:25:02.238980735Z"
    },
    "collapsed": false
   },
   "outputs": [],
   "source": [
    "X_train, y_train = train_df.iloc[:, :-1], train_df.iloc[:, -1]\n",
    "X_train = X_train.to_numpy()\n",
    "y_train = y_train.to_numpy()\n",
    "X_test = test_df.to_numpy()"
   ]
  },
  {
   "cell_type": "markdown",
   "id": "548b5ff6",
   "metadata": {},
   "source": [
    "# `is_iterable`\n",
    "Вспомогательная функция, которая проверяет то, что `obj` - это `iterable`."
   ]
  },
  {
   "cell_type": "code",
   "execution_count": 58,
   "id": "c9256424f9b89f4b",
   "metadata": {
    "ExecuteTime": {
     "end_time": "2023-12-24T14:25:02.410075651Z",
     "start_time": "2023-12-24T14:25:02.317864431Z"
    },
    "collapsed": false
   },
   "outputs": [],
   "source": [
    "def is_iterable(obj):\n",
    "    try:\n",
    "        iter(obj)\n",
    "        return True\n",
    "    except TypeError:\n",
    "        return False"
   ]
  },
  {
   "cell_type": "markdown",
   "id": "636d23d7",
   "metadata": {},
   "source": [
    "# `train_and_test`\n",
    "Обобщающая функция, которая проводит обучение гиперпараметров (если это нужно), тренировку лучшей схемы, предсказание целевой характеристики и подсчет уверенности данного предсказания для тестовой выборки и записывает результат в csv-файл."
   ]
  },
  {
   "cell_type": "code",
   "execution_count": 59,
   "id": "312f50704e2b6a0d",
   "metadata": {
    "ExecuteTime": {
     "end_time": "2023-12-24T14:25:02.411169007Z",
     "start_time": "2023-12-24T14:25:02.361661447Z"
    },
    "collapsed": false
   },
   "outputs": [],
   "source": [
    "from sklearn.metrics import accuracy_score\n",
    "\n",
    "def train_and_test(scheme, result_filename: str, hyperparams_metric=accuracy_score):\n",
    "    if is_iterable(scheme):\n",
    "        logging.info('HYPERPARAMS TUNING')\n",
    "        scheme, hyperparams_tuning_metric = tune_hyperparams(schemas=scheme, X=X_train, y=y_train,\n",
    "                                                             metric=accuracy_score)\n",
    "        logging.info('HYPERPARAMS TUNING: ' + scheme.hyperparams + '. METRIC: ' + str(hyperparams_tuning_metric))\n",
    "\n",
    "    logging.info('TRAINING')\n",
    "    scheme.fit(X=X_train, y=y_train)\n",
    "\n",
    "    logging.info('PREDICTING')\n",
    "    y_predict = scheme.predict(X=X_test)\n",
    "    y_predict_proba = scheme.predict_proba(X=X_test)\n",
    "    y_predict_df = pd.DataFrame(data={'class': y_predict, 'certainty': y_predict_proba})\n",
    "    y_predict_df.to_csv(os.path.join('result', result_filename + '.csv'), header=True, index=False, mode='w')\n",
    "\n",
    "    return scheme, y_predict"
   ]
  },
  {
   "cell_type": "markdown",
   "id": "1d060009",
   "metadata": {},
   "source": [
    "# Схема 1. KNN\n",
    "* Нормировка каждых признаков по отдельности.\n",
    "* Используются только 50% лучших признаков по score mutual info.\n",
    "* В качестве детектора выбросов используется `LocalOutlierFactor`.\n",
    "* В качестве финального классификатора используется метод KNN с учетом расстояния между объектами.\n",
    "* Количество соседей выбирается с помощью тренировки гиперпараметров."
   ]
  },
  {
   "cell_type": "code",
   "execution_count": 62,
   "id": "e40dd6a330a3bb78",
   "metadata": {
    "ExecuteTime": {
     "end_time": "2023-12-24T14:25:40.235005578Z",
     "start_time": "2023-12-24T14:25:36.793698901Z"
    },
    "collapsed": false
   },
   "outputs": [
    {
     "name": "stderr",
     "output_type": "stream",
     "text": [
      "INFO:root:HYPERPARAMS TUNING\n",
      "DEBUG:root:number of neighbours = 1\n",
      "DEBUG:root:CLEARING OUTLIERS: (448, 432) -> (345, 432)\n",
      "DEBUG:root:CLEARING OUTLIERS: (448, 432) -> (345, 432)\n",
      "DEBUG:root:CLEARING OUTLIERS: (448, 432) -> (347, 432)\n",
      "DEBUG:root:CLEARING OUTLIERS: (448, 432) -> (325, 432)\n",
      "DEBUG:root:CLEARING OUTLIERS: (448, 432) -> (334, 432)\n",
      "DEBUG:root:metric = 0.7464285714285716\n",
      "DEBUG:root:number of neighbours = 2\n",
      "DEBUG:root:CLEARING OUTLIERS: (448, 432) -> (355, 432)\n",
      "DEBUG:root:CLEARING OUTLIERS: (448, 432) -> (348, 432)\n",
      "DEBUG:root:CLEARING OUTLIERS: (448, 432) -> (342, 432)\n",
      "DEBUG:root:CLEARING OUTLIERS: (448, 432) -> (337, 432)\n",
      "DEBUG:root:CLEARING OUTLIERS: (448, 432) -> (352, 432)\n",
      "DEBUG:root:metric = 0.7607142857142857\n",
      "DEBUG:root:number of neighbours = 3\n",
      "DEBUG:root:CLEARING OUTLIERS: (448, 432) -> (361, 432)\n",
      "DEBUG:root:CLEARING OUTLIERS: (448, 432) -> (369, 432)\n",
      "DEBUG:root:CLEARING OUTLIERS: (448, 432) -> (367, 432)\n",
      "DEBUG:root:CLEARING OUTLIERS: (448, 432) -> (362, 432)\n",
      "DEBUG:root:CLEARING OUTLIERS: (448, 432) -> (375, 432)\n",
      "DEBUG:root:metric = 0.7464285714285714\n",
      "DEBUG:root:number of neighbours = 4\n",
      "DEBUG:root:CLEARING OUTLIERS: (448, 432) -> (358, 432)\n",
      "DEBUG:root:CLEARING OUTLIERS: (448, 432) -> (374, 432)\n",
      "DEBUG:root:CLEARING OUTLIERS: (448, 432) -> (370, 432)\n",
      "DEBUG:root:CLEARING OUTLIERS: (448, 432) -> (373, 432)\n",
      "DEBUG:root:CLEARING OUTLIERS: (448, 432) -> (376, 432)\n",
      "DEBUG:root:metric = 0.7625\n",
      "DEBUG:root:number of neighbours = 5\n",
      "DEBUG:root:CLEARING OUTLIERS: (448, 432) -> (356, 432)\n",
      "DEBUG:root:CLEARING OUTLIERS: (448, 432) -> (369, 432)\n",
      "DEBUG:root:CLEARING OUTLIERS: (448, 432) -> (370, 432)\n",
      "DEBUG:root:CLEARING OUTLIERS: (448, 432) -> (370, 432)\n",
      "DEBUG:root:CLEARING OUTLIERS: (448, 432) -> (366, 432)\n",
      "DEBUG:root:metric = 0.7660714285714286\n",
      "DEBUG:root:number of neighbours = 6\n",
      "DEBUG:root:CLEARING OUTLIERS: (448, 432) -> (367, 432)\n",
      "DEBUG:root:CLEARING OUTLIERS: (448, 432) -> (379, 432)\n",
      "DEBUG:root:CLEARING OUTLIERS: (448, 432) -> (382, 432)\n",
      "DEBUG:root:CLEARING OUTLIERS: (448, 432) -> (384, 432)\n",
      "DEBUG:root:CLEARING OUTLIERS: (448, 432) -> (380, 432)\n",
      "DEBUG:root:metric = 0.775\n",
      "DEBUG:root:number of neighbours = 7\n",
      "DEBUG:root:CLEARING OUTLIERS: (448, 432) -> (367, 432)\n",
      "DEBUG:root:CLEARING OUTLIERS: (448, 432) -> (381, 432)\n",
      "DEBUG:root:CLEARING OUTLIERS: (448, 432) -> (383, 432)\n",
      "DEBUG:root:CLEARING OUTLIERS: (448, 432) -> (383, 432)\n",
      "DEBUG:root:CLEARING OUTLIERS: (448, 432) -> (379, 432)\n",
      "DEBUG:root:metric = 0.7732142857142857\n",
      "DEBUG:root:number of neighbours = 8\n",
      "DEBUG:root:CLEARING OUTLIERS: (448, 432) -> (365, 432)\n",
      "DEBUG:root:CLEARING OUTLIERS: (448, 432) -> (374, 432)\n",
      "DEBUG:root:CLEARING OUTLIERS: (448, 432) -> (372, 432)\n",
      "DEBUG:root:CLEARING OUTLIERS: (448, 432) -> (376, 432)\n",
      "DEBUG:root:CLEARING OUTLIERS: (448, 432) -> (376, 432)\n",
      "DEBUG:root:metric = 0.7785714285714287\n",
      "DEBUG:root:number of neighbours = 9\n",
      "DEBUG:root:CLEARING OUTLIERS: (448, 432) -> (373, 432)\n",
      "DEBUG:root:CLEARING OUTLIERS: (448, 432) -> (394, 432)\n",
      "DEBUG:root:CLEARING OUTLIERS: (448, 432) -> (379, 432)\n",
      "DEBUG:root:CLEARING OUTLIERS: (448, 432) -> (362, 432)\n",
      "DEBUG:root:CLEARING OUTLIERS: (448, 432) -> (379, 432)\n",
      "DEBUG:root:metric = 0.7785714285714287\n",
      "DEBUG:root:number of neighbours = 10\n",
      "DEBUG:root:CLEARING OUTLIERS: (448, 432) -> (356, 432)\n",
      "DEBUG:root:CLEARING OUTLIERS: (448, 432) -> (399, 432)\n",
      "DEBUG:root:CLEARING OUTLIERS: (448, 432) -> (372, 432)\n",
      "DEBUG:root:CLEARING OUTLIERS: (448, 432) -> (355, 432)\n",
      "DEBUG:root:CLEARING OUTLIERS: (448, 432) -> (389, 432)\n",
      "DEBUG:root:metric = 0.7607142857142858\n",
      "DEBUG:root:number of neighbours = 11\n",
      "DEBUG:root:CLEARING OUTLIERS: (448, 432) -> (365, 432)\n",
      "DEBUG:root:CLEARING OUTLIERS: (448, 432) -> (394, 432)\n",
      "DEBUG:root:CLEARING OUTLIERS: (448, 432) -> (361, 432)\n",
      "DEBUG:root:CLEARING OUTLIERS: (448, 432) -> (382, 432)\n",
      "DEBUG:root:CLEARING OUTLIERS: (448, 432) -> (393, 432)\n",
      "DEBUG:root:metric = 0.7660714285714286\n",
      "DEBUG:root:number of neighbours = 12\n",
      "DEBUG:root:CLEARING OUTLIERS: (448, 432) -> (347, 432)\n",
      "DEBUG:root:CLEARING OUTLIERS: (448, 432) -> (379, 432)\n",
      "DEBUG:root:CLEARING OUTLIERS: (448, 432) -> (354, 432)\n",
      "DEBUG:root:CLEARING OUTLIERS: (448, 432) -> (384, 432)\n",
      "DEBUG:root:CLEARING OUTLIERS: (448, 432) -> (395, 432)\n",
      "DEBUG:root:metric = 0.7767857142857144\n",
      "DEBUG:root:number of neighbours = 13\n",
      "DEBUG:root:CLEARING OUTLIERS: (448, 432) -> (339, 432)\n",
      "DEBUG:root:CLEARING OUTLIERS: (448, 432) -> (370, 432)\n",
      "DEBUG:root:CLEARING OUTLIERS: (448, 432) -> (351, 432)\n",
      "DEBUG:root:CLEARING OUTLIERS: (448, 432) -> (390, 432)\n",
      "DEBUG:root:CLEARING OUTLIERS: (448, 432) -> (391, 432)\n",
      "DEBUG:root:metric = 0.7732142857142857\n",
      "DEBUG:root:number of neighbours = 14\n",
      "DEBUG:root:CLEARING OUTLIERS: (448, 432) -> (338, 432)\n",
      "DEBUG:root:CLEARING OUTLIERS: (448, 432) -> (377, 432)\n",
      "DEBUG:root:CLEARING OUTLIERS: (448, 432) -> (349, 432)\n",
      "DEBUG:root:CLEARING OUTLIERS: (448, 432) -> (396, 432)\n",
      "DEBUG:root:CLEARING OUTLIERS: (448, 432) -> (391, 432)\n",
      "DEBUG:root:metric = 0.7839285714285714\n",
      "DEBUG:root:number of neighbours = 15\n",
      "DEBUG:root:CLEARING OUTLIERS: (448, 432) -> (342, 432)\n",
      "DEBUG:root:CLEARING OUTLIERS: (448, 432) -> (379, 432)\n",
      "DEBUG:root:CLEARING OUTLIERS: (448, 432) -> (345, 432)\n",
      "DEBUG:root:CLEARING OUTLIERS: (448, 432) -> (397, 432)\n",
      "DEBUG:root:CLEARING OUTLIERS: (448, 432) -> (394, 432)\n",
      "DEBUG:root:metric = 0.7875\n",
      "DEBUG:root:number of neighbours = 16\n",
      "DEBUG:root:CLEARING OUTLIERS: (448, 432) -> (338, 432)\n",
      "DEBUG:root:CLEARING OUTLIERS: (448, 432) -> (380, 432)\n",
      "DEBUG:root:CLEARING OUTLIERS: (448, 432) -> (346, 432)\n",
      "DEBUG:root:CLEARING OUTLIERS: (448, 432) -> (394, 432)\n",
      "DEBUG:root:CLEARING OUTLIERS: (448, 432) -> (395, 432)\n",
      "DEBUG:root:metric = 0.7821428571428571\n",
      "DEBUG:root:number of neighbours = 17\n",
      "DEBUG:root:CLEARING OUTLIERS: (448, 432) -> (339, 432)\n",
      "DEBUG:root:CLEARING OUTLIERS: (448, 432) -> (379, 432)\n",
      "DEBUG:root:CLEARING OUTLIERS: (448, 432) -> (344, 432)\n",
      "DEBUG:root:CLEARING OUTLIERS: (448, 432) -> (390, 432)\n",
      "DEBUG:root:CLEARING OUTLIERS: (448, 432) -> (393, 432)\n",
      "DEBUG:root:metric = 0.7857142857142857\n",
      "DEBUG:root:number of neighbours = 18\n",
      "DEBUG:root:CLEARING OUTLIERS: (448, 432) -> (339, 432)\n",
      "DEBUG:root:CLEARING OUTLIERS: (448, 432) -> (372, 432)\n",
      "DEBUG:root:CLEARING OUTLIERS: (448, 432) -> (342, 432)\n",
      "DEBUG:root:CLEARING OUTLIERS: (448, 432) -> (386, 432)\n",
      "DEBUG:root:CLEARING OUTLIERS: (448, 432) -> (388, 432)\n",
      "DEBUG:root:metric = 0.7857142857142858\n",
      "DEBUG:root:number of neighbours = 19\n",
      "DEBUG:root:CLEARING OUTLIERS: (448, 432) -> (331, 432)\n",
      "DEBUG:root:CLEARING OUTLIERS: (448, 432) -> (367, 432)\n",
      "DEBUG:root:CLEARING OUTLIERS: (448, 432) -> (347, 432)\n",
      "DEBUG:root:CLEARING OUTLIERS: (448, 432) -> (378, 432)\n",
      "DEBUG:root:CLEARING OUTLIERS: (448, 432) -> (383, 432)\n",
      "DEBUG:root:metric = 0.7678571428571429\n",
      "DEBUG:root:number of neighbours = 20\n",
      "DEBUG:root:CLEARING OUTLIERS: (448, 432) -> (333, 432)\n",
      "DEBUG:root:CLEARING OUTLIERS: (448, 432) -> (359, 432)\n",
      "DEBUG:root:CLEARING OUTLIERS: (448, 432) -> (340, 432)\n",
      "DEBUG:root:CLEARING OUTLIERS: (448, 432) -> (369, 432)\n",
      "DEBUG:root:CLEARING OUTLIERS: (448, 432) -> (373, 432)\n",
      "DEBUG:root:metric = 0.7625\n",
      "DEBUG:root:number of neighbours = 21\n",
      "DEBUG:root:CLEARING OUTLIERS: (448, 432) -> (332, 432)\n",
      "DEBUG:root:CLEARING OUTLIERS: (448, 432) -> (350, 432)\n",
      "DEBUG:root:CLEARING OUTLIERS: (448, 432) -> (341, 432)\n",
      "DEBUG:root:CLEARING OUTLIERS: (448, 432) -> (359, 432)\n",
      "DEBUG:root:CLEARING OUTLIERS: (448, 432) -> (367, 432)\n",
      "DEBUG:root:metric = 0.7660714285714285\n",
      "DEBUG:root:number of neighbours = 22\n",
      "DEBUG:root:CLEARING OUTLIERS: (448, 432) -> (331, 432)\n",
      "DEBUG:root:CLEARING OUTLIERS: (448, 432) -> (336, 432)\n",
      "DEBUG:root:CLEARING OUTLIERS: (448, 432) -> (328, 432)\n",
      "DEBUG:root:CLEARING OUTLIERS: (448, 432) -> (352, 432)\n",
      "DEBUG:root:CLEARING OUTLIERS: (448, 432) -> (359, 432)\n",
      "DEBUG:root:metric = 0.7607142857142857\n",
      "DEBUG:root:number of neighbours = 23\n",
      "DEBUG:root:CLEARING OUTLIERS: (448, 432) -> (331, 432)\n",
      "DEBUG:root:CLEARING OUTLIERS: (448, 432) -> (327, 432)\n",
      "DEBUG:root:CLEARING OUTLIERS: (448, 432) -> (328, 432)\n",
      "DEBUG:root:CLEARING OUTLIERS: (448, 432) -> (346, 432)\n",
      "DEBUG:root:CLEARING OUTLIERS: (448, 432) -> (340, 432)\n",
      "DEBUG:root:metric = 0.7785714285714286\n",
      "DEBUG:root:number of neighbours = 24\n",
      "DEBUG:root:CLEARING OUTLIERS: (448, 432) -> (335, 432)\n",
      "DEBUG:root:CLEARING OUTLIERS: (448, 432) -> (319, 432)\n",
      "DEBUG:root:CLEARING OUTLIERS: (448, 432) -> (328, 432)\n",
      "DEBUG:root:CLEARING OUTLIERS: (448, 432) -> (340, 432)\n",
      "DEBUG:root:CLEARING OUTLIERS: (448, 432) -> (326, 432)\n",
      "DEBUG:root:metric = 0.7660714285714285\n",
      "DEBUG:root:number of neighbours = 25\n",
      "DEBUG:root:CLEARING OUTLIERS: (448, 432) -> (335, 432)\n",
      "DEBUG:root:CLEARING OUTLIERS: (448, 432) -> (308, 432)\n",
      "DEBUG:root:CLEARING OUTLIERS: (448, 432) -> (321, 432)\n",
      "DEBUG:root:CLEARING OUTLIERS: (448, 432) -> (330, 432)\n",
      "DEBUG:root:CLEARING OUTLIERS: (448, 432) -> (312, 432)\n",
      "DEBUG:root:metric = 0.7714285714285715\n",
      "DEBUG:root:number of neighbours = 26\n",
      "DEBUG:root:CLEARING OUTLIERS: (448, 432) -> (335, 432)\n",
      "DEBUG:root:CLEARING OUTLIERS: (448, 432) -> (308, 432)\n",
      "DEBUG:root:CLEARING OUTLIERS: (448, 432) -> (319, 432)\n",
      "DEBUG:root:CLEARING OUTLIERS: (448, 432) -> (323, 432)\n",
      "DEBUG:root:CLEARING OUTLIERS: (448, 432) -> (304, 432)\n",
      "DEBUG:root:metric = 0.7714285714285714\n",
      "DEBUG:root:number of neighbours = 27\n",
      "DEBUG:root:CLEARING OUTLIERS: (448, 432) -> (337, 432)\n",
      "DEBUG:root:CLEARING OUTLIERS: (448, 432) -> (295, 432)\n",
      "DEBUG:root:CLEARING OUTLIERS: (448, 432) -> (309, 432)\n",
      "DEBUG:root:CLEARING OUTLIERS: (448, 432) -> (310, 432)\n",
      "DEBUG:root:CLEARING OUTLIERS: (448, 432) -> (301, 432)\n",
      "DEBUG:root:metric = 0.7803571428571427\n",
      "DEBUG:root:number of neighbours = 28\n",
      "DEBUG:root:CLEARING OUTLIERS: (448, 432) -> (342, 432)\n",
      "DEBUG:root:CLEARING OUTLIERS: (448, 432) -> (287, 432)\n",
      "DEBUG:root:CLEARING OUTLIERS: (448, 432) -> (306, 432)\n",
      "DEBUG:root:CLEARING OUTLIERS: (448, 432) -> (308, 432)\n",
      "DEBUG:root:CLEARING OUTLIERS: (448, 432) -> (298, 432)\n",
      "DEBUG:root:metric = 0.7803571428571429\n",
      "DEBUG:root:number of neighbours = 29\n",
      "DEBUG:root:CLEARING OUTLIERS: (448, 432) -> (344, 432)\n",
      "DEBUG:root:CLEARING OUTLIERS: (448, 432) -> (284, 432)\n",
      "DEBUG:root:CLEARING OUTLIERS: (448, 432) -> (307, 432)\n",
      "DEBUG:root:CLEARING OUTLIERS: (448, 432) -> (311, 432)\n",
      "DEBUG:root:CLEARING OUTLIERS: (448, 432) -> (293, 432)\n",
      "DEBUG:root:metric = 0.7821428571428573\n",
      "DEBUG:root:number of neighbours = 30\n",
      "DEBUG:root:CLEARING OUTLIERS: (448, 432) -> (338, 432)\n",
      "DEBUG:root:CLEARING OUTLIERS: (448, 432) -> (266, 432)\n",
      "DEBUG:root:CLEARING OUTLIERS: (448, 432) -> (306, 432)\n",
      "DEBUG:root:CLEARING OUTLIERS: (448, 432) -> (311, 432)\n",
      "DEBUG:root:CLEARING OUTLIERS: (448, 432) -> (291, 432)\n",
      "DEBUG:root:metric = 0.7642857142857142\n",
      "INFO:root:HYPERPARAMS TUNING: number of neighbours = 15. METRIC: 0.7875\n",
      "INFO:root:TRAINING\n",
      "INFO:root:CLEARING OUTLIERS: (560, 432) -> (501, 432)\n",
      "INFO:root:PREDICTING\n"
     ]
    },
    {
     "data": {
      "text/plain": [
       "(<__main__.Scheme at 0x7f144b6884c0>, array([1, 3, 2, ..., 3, 3, 1]))"
      ]
     },
     "execution_count": 62,
     "metadata": {},
     "output_type": "execute_result"
    }
   ],
   "source": [
    "from sklearn.feature_selection import mutual_info_classif\n",
    "from sklearn.feature_selection import SelectPercentile\n",
    "from sklearn.model_selection import GridSearchCV\n",
    "from sklearn.neighbors import KNeighborsClassifier\n",
    "from sklearn.neighbors import LocalOutlierFactor\n",
    "from sklearn.preprocessing import MinMaxScaler\n",
    "\n",
    "schemes_knn = [Scheme(pipeline=Pipeline(steps=[\n",
    "    ('scaler', MinMaxScaler()),\n",
    "    ('feature_selector', SelectPercentile(score_func=mutual_info_classif, percentile=50)),\n",
    "    ('classifier', KNeighborsClassifier(n_neighbors=n, weights='distance'))\n",
    "]), outlier_detector=LocalOutlierFactor(n_neighbors=n), hyperparams_str=f'number of neighbours = {n}') for n in range(1, 31)]\n",
    "train_and_test(scheme=schemes_knn, result_filename='KNN')"
   ]
  },
  {
   "cell_type": "markdown",
   "id": "91298bd7",
   "metadata": {},
   "source": [
    "# Схема 2. MLP\n",
    "* Нормировка каждых признаков по отдельности.\n",
    "* Используются только 50% лучших признаков по score mutual info.\n",
    "* В качестве детектора выбросов используется `LocalOutlierFactor`.\n",
    "* В качестве финального классификатора используется многослойный перцептрон с 3-мя скрытыми слоями, количество нейронов в которых выбирается с помощью тренировки гиперпараметров."
   ]
  },
  {
   "cell_type": "code",
   "execution_count": 63,
   "id": "d9448f11",
   "metadata": {},
   "outputs": [
    {
     "name": "stderr",
     "output_type": "stream",
     "text": [
      "INFO:root:HYPERPARAMS TUNING\n",
      "DEBUG:root:layers = (15, 10, 5)\n",
      "DEBUG:root:CLEARING OUTLIERS: (448, 432) -> (342, 432)\n",
      "DEBUG:root:CLEARING OUTLIERS: (448, 432) -> (379, 432)\n",
      "DEBUG:root:CLEARING OUTLIERS: (448, 432) -> (345, 432)\n",
      "DEBUG:root:CLEARING OUTLIERS: (448, 432) -> (397, 432)\n",
      "DEBUG:root:CLEARING OUTLIERS: (448, 432) -> (394, 432)\n",
      "DEBUG:root:metric = 0.7982142857142858\n",
      "DEBUG:root:layers = (15, 10, 6)\n",
      "DEBUG:root:CLEARING OUTLIERS: (448, 432) -> (342, 432)\n",
      "DEBUG:root:CLEARING OUTLIERS: (448, 432) -> (379, 432)\n",
      "DEBUG:root:CLEARING OUTLIERS: (448, 432) -> (345, 432)\n",
      "DEBUG:root:CLEARING OUTLIERS: (448, 432) -> (397, 432)\n",
      "DEBUG:root:CLEARING OUTLIERS: (448, 432) -> (394, 432)\n",
      "DEBUG:root:metric = 0.7946428571428571\n",
      "DEBUG:root:layers = (15, 11, 5)\n",
      "DEBUG:root:CLEARING OUTLIERS: (448, 432) -> (342, 432)\n",
      "DEBUG:root:CLEARING OUTLIERS: (448, 432) -> (379, 432)\n",
      "DEBUG:root:CLEARING OUTLIERS: (448, 432) -> (345, 432)\n",
      "DEBUG:root:CLEARING OUTLIERS: (448, 432) -> (397, 432)\n",
      "DEBUG:root:CLEARING OUTLIERS: (448, 432) -> (394, 432)\n",
      "DEBUG:root:metric = 0.8107142857142857\n",
      "DEBUG:root:layers = (15, 11, 6)\n",
      "DEBUG:root:CLEARING OUTLIERS: (448, 432) -> (342, 432)\n",
      "DEBUG:root:CLEARING OUTLIERS: (448, 432) -> (379, 432)\n",
      "DEBUG:root:CLEARING OUTLIERS: (448, 432) -> (345, 432)\n",
      "DEBUG:root:CLEARING OUTLIERS: (448, 432) -> (397, 432)\n",
      "DEBUG:root:CLEARING OUTLIERS: (448, 432) -> (394, 432)\n",
      "DEBUG:root:metric = 0.7839285714285714\n",
      "DEBUG:root:layers = (16, 10, 5)\n",
      "DEBUG:root:CLEARING OUTLIERS: (448, 432) -> (342, 432)\n",
      "DEBUG:root:CLEARING OUTLIERS: (448, 432) -> (379, 432)\n",
      "DEBUG:root:CLEARING OUTLIERS: (448, 432) -> (345, 432)\n",
      "DEBUG:root:CLEARING OUTLIERS: (448, 432) -> (397, 432)\n",
      "DEBUG:root:CLEARING OUTLIERS: (448, 432) -> (394, 432)\n",
      "DEBUG:root:metric = 0.8196428571428571\n",
      "DEBUG:root:layers = (16, 10, 6)\n",
      "DEBUG:root:CLEARING OUTLIERS: (448, 432) -> (342, 432)\n",
      "DEBUG:root:CLEARING OUTLIERS: (448, 432) -> (379, 432)\n",
      "DEBUG:root:CLEARING OUTLIERS: (448, 432) -> (345, 432)\n",
      "DEBUG:root:CLEARING OUTLIERS: (448, 432) -> (397, 432)\n",
      "DEBUG:root:CLEARING OUTLIERS: (448, 432) -> (394, 432)\n",
      "DEBUG:root:metric = 0.7928571428571429\n",
      "DEBUG:root:layers = (16, 11, 5)\n",
      "DEBUG:root:CLEARING OUTLIERS: (448, 432) -> (342, 432)\n",
      "DEBUG:root:CLEARING OUTLIERS: (448, 432) -> (379, 432)\n",
      "DEBUG:root:CLEARING OUTLIERS: (448, 432) -> (345, 432)\n",
      "DEBUG:root:CLEARING OUTLIERS: (448, 432) -> (397, 432)\n",
      "DEBUG:root:CLEARING OUTLIERS: (448, 432) -> (394, 432)\n",
      "DEBUG:root:metric = 0.7964285714285715\n",
      "DEBUG:root:layers = (16, 11, 6)\n",
      "DEBUG:root:CLEARING OUTLIERS: (448, 432) -> (342, 432)\n",
      "DEBUG:root:CLEARING OUTLIERS: (448, 432) -> (379, 432)\n",
      "DEBUG:root:CLEARING OUTLIERS: (448, 432) -> (345, 432)\n",
      "DEBUG:root:CLEARING OUTLIERS: (448, 432) -> (397, 432)\n",
      "DEBUG:root:CLEARING OUTLIERS: (448, 432) -> (394, 432)\n",
      "DEBUG:root:metric = 0.7803571428571429\n",
      "INFO:root:HYPERPARAMS TUNING: layers = (16, 10, 5). METRIC: 0.8196428571428571\n",
      "INFO:root:TRAINING\n",
      "INFO:root:CLEARING OUTLIERS: (560, 432) -> (501, 432)\n",
      "INFO:root:PREDICTING\n"
     ]
    },
    {
     "data": {
      "text/plain": [
       "(<__main__.Scheme at 0x7f144b748100>, array([1, 3, 2, ..., 3, 3, 1]))"
      ]
     },
     "execution_count": 63,
     "metadata": {},
     "output_type": "execute_result"
    }
   ],
   "source": [
    "from sklearn.neural_network import MLPClassifier \n",
    "\n",
    "schemes_mlp = []\n",
    "for i in range(15, 17):\n",
    "    for j in range(10, 12):\n",
    "        for k in range(5, 7):\n",
    "            schemes_mlp.append(Scheme(pipeline=Pipeline(steps=[\n",
    "                ('scaler', MinMaxScaler()),\n",
    "                ('feature_selector', SelectPercentile(score_func=mutual_info_classif, percentile=50)),\n",
    "                ('classifier', MLPClassifier(\n",
    "                                    hidden_layer_sizes=[50 * i, 50 * j, 50 * k],\n",
    "                                    max_iter=1000,\n",
    "                                ))]), outlier_detector=LocalOutlierFactor(n_neighbors=15), hyperparams_str=f'layers = ({i}, {j}, {k})'))\n",
    "train_and_test(scheme=schemes_mlp, result_filename='MLP')"
   ]
  },
  {
   "cell_type": "markdown",
   "id": "4fb45543",
   "metadata": {},
   "source": [
    "# Схема 3. Дерево решений\n",
    "* Нормировка каждых признаков по отдельности.\n",
    "* Используются только 50% лучших признаков по score mutual info.\n",
    "* В качестве детектора выбросов используется `Isolation Forest`.\n",
    "* В качестве финального классификатора используется дерево решений."
   ]
  },
  {
   "cell_type": "code",
   "execution_count": 64,
   "id": "9b3e4824",
   "metadata": {},
   "outputs": [
    {
     "name": "stderr",
     "output_type": "stream",
     "text": [
      "INFO:root:TRAINING\n",
      "INFO:root:CLEARING OUTLIERS: (560, 432) -> (506, 432)\n",
      "INFO:root:PREDICTING\n"
     ]
    },
    {
     "data": {
      "text/plain": [
       "(<__main__.Scheme at 0x7f144b58bf40>, array([1, 3, 2, ..., 3, 3, 1]))"
      ]
     },
     "execution_count": 64,
     "metadata": {},
     "output_type": "execute_result"
    }
   ],
   "source": [
    "from sklearn.tree import DecisionTreeClassifier\n",
    "from sklearn.ensemble import IsolationForest\n",
    "\n",
    "scheme_tree = Scheme(pipeline=Pipeline(steps=[\n",
    "    ('scaler', MinMaxScaler()),\n",
    "    ('feature_selector', SelectPercentile(score_func=mutual_info_classif, percentile=50)),\n",
    "    ('classifier', DecisionTreeClassifier(criterion='entropy', min_samples_split = 0.05, ))\n",
    "]), outlier_detector=IsolationForest(n_jobs=-1))    \n",
    "train_and_test(scheme=scheme_tree, result_filename='Decision tree')"
   ]
  },
  {
   "cell_type": "markdown",
   "id": "1b4a5c32",
   "metadata": {},
   "source": [
    "# Схема 4. Логистическая регрессия\n",
    "* Нормировка каждых признаков по отдельности.\n",
    "* Используются только 50% лучших признаков по score mutual info.\n",
    "* В качестве финального классификатора используется логистическая регрессия."
   ]
  },
  {
   "cell_type": "code",
   "execution_count": 66,
   "id": "192d5309",
   "metadata": {},
   "outputs": [
    {
     "name": "stderr",
     "output_type": "stream",
     "text": [
      "INFO:root:TRAINING\n",
      "INFO:root:PREDICTING\n"
     ]
    },
    {
     "data": {
      "text/plain": [
       "(<__main__.Scheme at 0x7f144b589090>, array([1, 3, 2, ..., 3, 3, 1]))"
      ]
     },
     "execution_count": 66,
     "metadata": {},
     "output_type": "execute_result"
    }
   ],
   "source": [
    "from sklearn.linear_model import LogisticRegression\n",
    "\n",
    "scheme_lr = Scheme(\n",
    "    pipeline=Pipeline(\n",
    "        steps=[\n",
    "            (\"scaler\", MinMaxScaler()),\n",
    "            ('feature_selector', SelectPercentile(score_func=mutual_info_classif, percentile=50)),  # normalize each feature independently\n",
    "            (\"classifier\", LogisticRegression(max_iter=1000)),\n",
    "        ]\n",
    "    )\n",
    ")\n",
    "train_and_test(scheme=scheme_lr, result_filename='Logistic regression')"
   ]
  }
 ],
 "metadata": {
  "kernelspec": {
   "display_name": "Python 3",
   "language": "python",
   "name": "python3"
  },
  "language_info": {
   "codemirror_mode": {
    "name": "ipython",
    "version": 3
   },
   "file_extension": ".py",
   "mimetype": "text/x-python",
   "name": "python",
   "nbconvert_exporter": "python",
   "pygments_lexer": "ipython3",
   "version": "3.10.12"
  }
 },
 "nbformat": 4,
 "nbformat_minor": 5
}
