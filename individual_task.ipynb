{
 "cells": [
  {
   "cell_type": "code",
   "execution_count": 1,
   "id": "initial_id",
   "metadata": {
    "collapsed": true,
    "ExecuteTime": {
     "end_time": "2023-12-24T10:22:22.840807259Z",
     "start_time": "2023-12-24T10:22:22.834726901Z"
    }
   },
   "outputs": [],
   "source": [
    "training_dataset_name = 'train2023.csv'\n",
    "testing_dataset_name = 'test2023.csv'"
   ]
  },
  {
   "cell_type": "code",
   "execution_count": null,
   "outputs": [],
   "source": [
    "import os\n",
    "import pandas as pd\n",
    "\n",
    "train_df = pd.read_csv(os.path.join('data', training_dataset_name), sep=';', header=None)\n",
    "test_df = pd.read_csv(os.path.join('data', testing_dataset_name), sep=';', header=None)"
   ],
   "metadata": {
    "collapsed": false
   },
   "id": "f0ec97b01c4a4981"
  },
  {
   "cell_type": "code",
   "execution_count": null,
   "outputs": [],
   "source": [
    "import logging\n",
    "\n",
    "logging.basicConfig(level=logging.INFO)"
   ],
   "metadata": {
    "collapsed": false
   },
   "id": "454d5adb2e0a427"
  },
  {
   "cell_type": "code",
   "execution_count": null,
   "outputs": [],
   "source": [
    "import abc\n",
    "\n",
    "class Preprocessor(abc.ABC):\n",
    "\n",
    "    @classmethod\n",
    "    @abc.abstractmethod\n",
    "    def fit_transform(self, X, y):\n",
    "        return X, y\n",
    "\n",
    "    @classmethod\n",
    "    @abc.abstractmethod\n",
    "    def transform(self, X):\n",
    "        pass"
   ],
   "metadata": {
    "collapsed": false
   },
   "id": "2dca6b7fcf59f4db"
  },
  {
   "cell_type": "code",
   "execution_count": null,
   "outputs": [],
   "source": [
    "import numpy as np\n",
    "\n",
    "from sklearn.base import OutlierMixin\n",
    "\n",
    "class OutlierTransformer(Preprocessor):\n",
    "\n",
    "    def __init__(self, outlier_detector: OutlierMixin, class_labels):\n",
    "        self._outlier_detector = outlier_detector\n",
    "        self._class_labels = class_labels\n",
    "\n",
    "    def fit_transform(self, X, y):\n",
    "        before = X.shape\n",
    "        X_separated_by_class = [X[y == i, :] for i in self._class_labels]\n",
    "        X_separated_by_class_cleared = [\n",
    "            X_separated_by_class[i][self._outlier_detector.fit_predict(X=X_separated_by_class[i]) == 1, :] for i in\n",
    "            self._class_labels]\n",
    "        X = np.vstack(X_separated_by_class_cleared)\n",
    "        after = X.shape\n",
    "        y = np.hstack([np.full((1, X_separated_by_class_cleared[i].shape[0]), i) for i in self._class_labels])\n",
    "        logging.info(f'CLEARING OUTLIERS: {before} -> {after}')\n",
    "\n",
    "        return X, y\n",
    "\n",
    "    def transform(self, X):\n",
    "        return X"
   ],
   "metadata": {
    "collapsed": false
   },
   "id": "ede138860eb526a4"
  },
  {
   "cell_type": "code",
   "execution_count": null,
   "outputs": [],
   "source": [
    "class FeatureSelector(Preprocessor):\n",
    "\n",
    "    def __init__(self, feature_selector):\n",
    "        self._feature_selector = feature_selector\n",
    "\n",
    "    def fit_transform(self, X, y):\n",
    "        before = X.shape\n",
    "        X = self._feature_selector.fit_transform(X, y)"
   ],
   "metadata": {
    "collapsed": false
   },
   "id": "6c003c1289e64c8"
  },
  {
   "cell_type": "code",
   "execution_count": null,
   "outputs": [],
   "source": [
    "from sklearn.pipeline import Pipeline\n",
    "\n",
    "class Scheme:\n",
    "\n",
    "    def __init__(self, pipeline: Pipeline, preprocessors = None):\n",
    "        if preprocessors is None:\n",
    "            self._preprocessors = []\n",
    "        self._pipeline = pipeline\n",
    "\n",
    "    def fit(self, X, y):\n",
    "        for preprocessors in self._preprocessors:\n",
    "            X, y = preprocessors.fit_transform(X=X, y=y)\n",
    "        self._pipeline.fit(X = X, y = y)"
   ],
   "metadata": {
    "collapsed": false
   },
   "id": "dcf92b9e7b5e1ab1"
  }
 ],
 "metadata": {
  "kernelspec": {
   "display_name": "Python 3",
   "language": "python",
   "name": "python3"
  },
  "language_info": {
   "codemirror_mode": {
    "name": "ipython",
    "version": 2
   },
   "file_extension": ".py",
   "mimetype": "text/x-python",
   "name": "python",
   "nbconvert_exporter": "python",
   "pygments_lexer": "ipython2",
   "version": "2.7.6"
  }
 },
 "nbformat": 4,
 "nbformat_minor": 5
}
