{
 "cells": [
  {
   "cell_type": "code",
   "execution_count": 34,
   "id": "initial_id",
   "metadata": {
    "collapsed": true,
    "ExecuteTime": {
     "end_time": "2023-12-24T13:29:48.119120526Z",
     "start_time": "2023-12-24T13:29:48.068782357Z"
    }
   },
   "outputs": [],
   "source": [
    "training_dataset_name = 'train2023.csv'\n",
    "testing_dataset_name = 'test2023.csv'"
   ]
  },
  {
   "cell_type": "code",
   "execution_count": 35,
   "outputs": [],
   "source": [
    "import os\n",
    "import pandas as pd\n",
    "\n",
    "train_df = pd.read_csv(os.path.join('data', training_dataset_name), sep=';', header=None)\n",
    "test_df = pd.read_csv(os.path.join('data', testing_dataset_name), sep=';', header=None)\n",
    "\n",
    "classes = [1, 2, 3]"
   ],
   "metadata": {
    "collapsed": false,
    "ExecuteTime": {
     "end_time": "2023-12-24T13:29:48.173047024Z",
     "start_time": "2023-12-24T13:29:48.109190111Z"
    }
   },
   "id": "f0ec97b01c4a4981"
  },
  {
   "cell_type": "code",
   "execution_count": 36,
   "outputs": [],
   "source": [
    "import logging\n",
    "\n",
    "logging.basicConfig(level=logging.DEBUG)"
   ],
   "metadata": {
    "collapsed": false,
    "ExecuteTime": {
     "end_time": "2023-12-24T13:29:48.179233471Z",
     "start_time": "2023-12-24T13:29:48.175075259Z"
    }
   },
   "id": "454d5adb2e0a427"
  },
  {
   "cell_type": "code",
   "execution_count": 37,
   "outputs": [],
   "source": [
    "import numpy as np\n",
    "\n",
    "from sklearn.base import BaseEstimator\n",
    "\n",
    "\n",
    "class OutlierTransformer:\n",
    "\n",
    "    def __init__(self, outlier_detector, class_labels, params: dict = None):\n",
    "        self._class_labels = class_labels\n",
    "\n",
    "        self._outlier_detector = outlier_detector\n",
    "        self.set_params(params=params)\n",
    "\n",
    "    def get_params(self, deep: bool):\n",
    "        return self._outlier_detector.get_params(deep=deep)\n",
    "\n",
    "    def set_params(self, params: dict):\n",
    "        if params is None:\n",
    "            return\n",
    "        params = {param_name: param_value for param_name, param_value in params.items() if\n",
    "                  param_name in self._outlier_detector.get_params().keys()}\n",
    "        self._outlier_detector.set_params(params=params)\n",
    "\n",
    "    def fit_transform(self, X, y):\n",
    "        before = X.shape\n",
    "        X_separated_by_class = [X[y == i, :] for i in self._class_labels]\n",
    "        X_separated_by_class_cleared = [\n",
    "            X_separated_by_class[i][self._outlier_detector.fit_predict(X=X_separated_by_class[i]) == 1, :] for i in\n",
    "            self._class_labels]\n",
    "        X = np.vstack(X_separated_by_class_cleared)\n",
    "        after = X.shape\n",
    "        y = np.hstack([np.full((1, X_separated_by_class_cleared[i].shape[0]), i) for i in self._class_labels])\n",
    "        logging.debug(f'CLEARING OUTLIERS: {before} -> {after}')\n",
    "\n",
    "        return X, y"
   ],
   "metadata": {
    "collapsed": false,
    "ExecuteTime": {
     "end_time": "2023-12-24T13:29:48.187901524Z",
     "start_time": "2023-12-24T13:29:48.181503440Z"
    }
   },
   "id": "ede138860eb526a4"
  },
  {
   "cell_type": "code",
   "execution_count": 38,
   "outputs": [],
   "source": [
    "from sklearn.pipeline import Pipeline\n",
    "\n",
    "\n",
    "class Scheme(BaseEstimator):\n",
    "\n",
    "    def __init__(self, pipeline: Pipeline, outlier_detector=None, class_labels=classes, params=None):\n",
    "        if outlier_detector is not None:\n",
    "            self._outlier_transformer = OutlierTransformer(outlier_detector=outlier_detector, class_labels=classes,\n",
    "                                                           params=params)\n",
    "        else:\n",
    "            self._outlier_transformer = None\n",
    "        self._pipeline = pipeline\n",
    "\n",
    "    def get_params(self, deep: bool):\n",
    "        return self._pipeline.get_params(deep=deep) | self._outlier_transformer.get_params(deep=deep)\n",
    "\n",
    "    def set_params(self, **params):\n",
    "        self._outlier_transformer.set_params(params=params)\n",
    "        self._pipeline.set_params(kwargs=params)\n",
    "\n",
    "    def fit(self, X, y):\n",
    "        if self._outlier_transformer is not None:\n",
    "            X, y = self._outlier_transformer.fit_transform(X=X, y=y)\n",
    "        self._pipeline.fit(X=X, y=y)\n",
    "\n",
    "    def predict(self, X):\n",
    "        return self._pipeline.predict(X=X)"
   ],
   "metadata": {
    "collapsed": false,
    "ExecuteTime": {
     "end_time": "2023-12-24T13:29:48.200109219Z",
     "start_time": "2023-12-24T13:29:48.192046976Z"
    }
   },
   "id": "dcf92b9e7b5e1ab1"
  },
  {
   "cell_type": "code",
   "execution_count": 39,
   "outputs": [],
   "source": [
    "from sklearn.metrics import accuracy_score\n",
    "from sklearn.metrics import f1_score\n",
    "from sklearn.metrics import make_scorer\n",
    "from sklearn.metrics import precision_score\n",
    "from sklearn.metrics import recall_score\n",
    "from sklearn.metrics import roc_auc_score\n",
    "\n",
    "metrics = {\"ACCURACY\": accuracy_score, \"F1\": f1_score, \"PRECISION\": precision_score, \"RECALL\": recall_score,\n",
    "           \"AUC\": roc_auc_score}\n",
    "scorers = {metric_name: make_scorer(metric_callable) for metric_name, metric_callable in metrics.items()}"
   ],
   "metadata": {
    "collapsed": false,
    "ExecuteTime": {
     "end_time": "2023-12-24T13:29:48.220828657Z",
     "start_time": "2023-12-24T13:29:48.198541556Z"
    }
   },
   "id": "8f16f2ebe25a373e"
  },
  {
   "cell_type": "code",
   "execution_count": 40,
   "outputs": [],
   "source": [
    "X_train, y_train = train_df.iloc[:, :-1], train_df.iloc[:, -1]\n",
    "X_train = X_train.to_numpy()\n",
    "y_train = y_train.to_numpy()\n",
    "X_test = test_df.to_numpy()"
   ],
   "metadata": {
    "collapsed": false,
    "ExecuteTime": {
     "end_time": "2023-12-24T13:29:48.221693408Z",
     "start_time": "2023-12-24T13:29:48.203060214Z"
    }
   },
   "id": "493e61109b2dc808"
  },
  {
   "cell_type": "code",
   "execution_count": 41,
   "outputs": [
    {
     "name": "stderr",
     "output_type": "stream",
     "text": [
      "INFO:root:KNN SCHEME\n",
      "INFO:root:TRAINING\n"
     ]
    },
    {
     "ename": "TypeError",
     "evalue": "Scheme.__init__() got an unexpected keyword argument 'steps'",
     "output_type": "error",
     "traceback": [
      "\u001B[0;31m---------------------------------------------------------------------------\u001B[0m",
      "\u001B[0;31mTypeError\u001B[0m                                 Traceback (most recent call last)",
      "Cell \u001B[0;32mIn[41], line 18\u001B[0m\n\u001B[1;32m     16\u001B[0m logging\u001B[38;5;241m.\u001B[39minfo(\u001B[38;5;124m'\u001B[39m\u001B[38;5;124mKNN SCHEME\u001B[39m\u001B[38;5;124m'\u001B[39m)\n\u001B[1;32m     17\u001B[0m logging\u001B[38;5;241m.\u001B[39minfo(\u001B[38;5;124m'\u001B[39m\u001B[38;5;124mTRAINING\u001B[39m\u001B[38;5;124m'\u001B[39m)\n\u001B[0;32m---> 18\u001B[0m \u001B[43mgs_scheme_knn\u001B[49m\u001B[38;5;241;43m.\u001B[39;49m\u001B[43mfit\u001B[49m\u001B[43m(\u001B[49m\u001B[43mX\u001B[49m\u001B[38;5;241;43m=\u001B[39;49m\u001B[43mX_train\u001B[49m\u001B[43m,\u001B[49m\u001B[43m \u001B[49m\u001B[43my\u001B[49m\u001B[38;5;241;43m=\u001B[39;49m\u001B[43my_train\u001B[49m\u001B[43m)\u001B[49m\n\u001B[1;32m     19\u001B[0m logging\u001B[38;5;241m.\u001B[39minfo(\u001B[38;5;124m'\u001B[39m\u001B[38;5;124mBEST SCORE: \u001B[39m\u001B[38;5;124m'\u001B[39m \u001B[38;5;241m+\u001B[39m gs_scheme_knn\u001B[38;5;241m.\u001B[39mbest_score_)\n\u001B[1;32m     20\u001B[0m logging\u001B[38;5;241m.\u001B[39minfo(\u001B[38;5;124m'\u001B[39m\u001B[38;5;124mBEST PARAMS: \u001B[39m\u001B[38;5;124m'\u001B[39m \u001B[38;5;241m+\u001B[39m gs_scheme_knn\u001B[38;5;241m.\u001B[39mbest_params_)\n",
      "File \u001B[0;32m~/my_projects/iad-individual/venv/lib/python3.10/site-packages/sklearn/base.py:1152\u001B[0m, in \u001B[0;36m_fit_context.<locals>.decorator.<locals>.wrapper\u001B[0;34m(estimator, *args, **kwargs)\u001B[0m\n\u001B[1;32m   1145\u001B[0m     estimator\u001B[38;5;241m.\u001B[39m_validate_params()\n\u001B[1;32m   1147\u001B[0m \u001B[38;5;28;01mwith\u001B[39;00m config_context(\n\u001B[1;32m   1148\u001B[0m     skip_parameter_validation\u001B[38;5;241m=\u001B[39m(\n\u001B[1;32m   1149\u001B[0m         prefer_skip_nested_validation \u001B[38;5;129;01mor\u001B[39;00m global_skip_validation\n\u001B[1;32m   1150\u001B[0m     )\n\u001B[1;32m   1151\u001B[0m ):\n\u001B[0;32m-> 1152\u001B[0m     \u001B[38;5;28;01mreturn\u001B[39;00m \u001B[43mfit_method\u001B[49m\u001B[43m(\u001B[49m\u001B[43mestimator\u001B[49m\u001B[43m,\u001B[49m\u001B[43m \u001B[49m\u001B[38;5;241;43m*\u001B[39;49m\u001B[43margs\u001B[49m\u001B[43m,\u001B[49m\u001B[43m \u001B[49m\u001B[38;5;241;43m*\u001B[39;49m\u001B[38;5;241;43m*\u001B[39;49m\u001B[43mkwargs\u001B[49m\u001B[43m)\u001B[49m\n",
      "File \u001B[0;32m~/my_projects/iad-individual/venv/lib/python3.10/site-packages/sklearn/model_selection/_search.py:812\u001B[0m, in \u001B[0;36mBaseSearchCV.fit\u001B[0;34m(self, X, y, groups, **fit_params)\u001B[0m\n\u001B[1;32m    809\u001B[0m cv_orig \u001B[38;5;241m=\u001B[39m check_cv(\u001B[38;5;28mself\u001B[39m\u001B[38;5;241m.\u001B[39mcv, y, classifier\u001B[38;5;241m=\u001B[39mis_classifier(estimator))\n\u001B[1;32m    810\u001B[0m n_splits \u001B[38;5;241m=\u001B[39m cv_orig\u001B[38;5;241m.\u001B[39mget_n_splits(X, y, groups)\n\u001B[0;32m--> 812\u001B[0m base_estimator \u001B[38;5;241m=\u001B[39m \u001B[43mclone\u001B[49m\u001B[43m(\u001B[49m\u001B[38;5;28;43mself\u001B[39;49m\u001B[38;5;241;43m.\u001B[39;49m\u001B[43mestimator\u001B[49m\u001B[43m)\u001B[49m\n\u001B[1;32m    814\u001B[0m parallel \u001B[38;5;241m=\u001B[39m Parallel(n_jobs\u001B[38;5;241m=\u001B[39m\u001B[38;5;28mself\u001B[39m\u001B[38;5;241m.\u001B[39mn_jobs, pre_dispatch\u001B[38;5;241m=\u001B[39m\u001B[38;5;28mself\u001B[39m\u001B[38;5;241m.\u001B[39mpre_dispatch)\n\u001B[1;32m    816\u001B[0m fit_and_score_kwargs \u001B[38;5;241m=\u001B[39m \u001B[38;5;28mdict\u001B[39m(\n\u001B[1;32m    817\u001B[0m     scorer\u001B[38;5;241m=\u001B[39mscorers,\n\u001B[1;32m    818\u001B[0m     fit_params\u001B[38;5;241m=\u001B[39mfit_params,\n\u001B[0;32m   (...)\u001B[0m\n\u001B[1;32m    824\u001B[0m     verbose\u001B[38;5;241m=\u001B[39m\u001B[38;5;28mself\u001B[39m\u001B[38;5;241m.\u001B[39mverbose,\n\u001B[1;32m    825\u001B[0m )\n",
      "File \u001B[0;32m~/my_projects/iad-individual/venv/lib/python3.10/site-packages/sklearn/base.py:75\u001B[0m, in \u001B[0;36mclone\u001B[0;34m(estimator, safe)\u001B[0m\n\u001B[1;32m     41\u001B[0m \u001B[38;5;250m\u001B[39m\u001B[38;5;124;03m\"\"\"Construct a new unfitted estimator with the same parameters.\u001B[39;00m\n\u001B[1;32m     42\u001B[0m \n\u001B[1;32m     43\u001B[0m \u001B[38;5;124;03mClone does a deep copy of the model in an estimator\u001B[39;00m\n\u001B[0;32m   (...)\u001B[0m\n\u001B[1;32m     72\u001B[0m \u001B[38;5;124;03mfound in :ref:`randomness`.\u001B[39;00m\n\u001B[1;32m     73\u001B[0m \u001B[38;5;124;03m\"\"\"\u001B[39;00m\n\u001B[1;32m     74\u001B[0m \u001B[38;5;28;01mif\u001B[39;00m \u001B[38;5;28mhasattr\u001B[39m(estimator, \u001B[38;5;124m\"\u001B[39m\u001B[38;5;124m__sklearn_clone__\u001B[39m\u001B[38;5;124m\"\u001B[39m) \u001B[38;5;129;01mand\u001B[39;00m \u001B[38;5;129;01mnot\u001B[39;00m inspect\u001B[38;5;241m.\u001B[39misclass(estimator):\n\u001B[0;32m---> 75\u001B[0m     \u001B[38;5;28;01mreturn\u001B[39;00m \u001B[43mestimator\u001B[49m\u001B[38;5;241;43m.\u001B[39;49m\u001B[43m__sklearn_clone__\u001B[49m\u001B[43m(\u001B[49m\u001B[43m)\u001B[49m\n\u001B[1;32m     76\u001B[0m \u001B[38;5;28;01mreturn\u001B[39;00m _clone_parametrized(estimator, safe\u001B[38;5;241m=\u001B[39msafe)\n",
      "File \u001B[0;32m~/my_projects/iad-individual/venv/lib/python3.10/site-packages/sklearn/base.py:268\u001B[0m, in \u001B[0;36mBaseEstimator.__sklearn_clone__\u001B[0;34m(self)\u001B[0m\n\u001B[1;32m    267\u001B[0m \u001B[38;5;28;01mdef\u001B[39;00m \u001B[38;5;21m__sklearn_clone__\u001B[39m(\u001B[38;5;28mself\u001B[39m):\n\u001B[0;32m--> 268\u001B[0m     \u001B[38;5;28;01mreturn\u001B[39;00m \u001B[43m_clone_parametrized\u001B[49m\u001B[43m(\u001B[49m\u001B[38;5;28;43mself\u001B[39;49m\u001B[43m)\u001B[49m\n",
      "File \u001B[0;32m~/my_projects/iad-individual/venv/lib/python3.10/site-packages/sklearn/base.py:110\u001B[0m, in \u001B[0;36m_clone_parametrized\u001B[0;34m(estimator, safe)\u001B[0m\n\u001B[1;32m    107\u001B[0m \u001B[38;5;28;01mfor\u001B[39;00m name, param \u001B[38;5;129;01min\u001B[39;00m new_object_params\u001B[38;5;241m.\u001B[39mitems():\n\u001B[1;32m    108\u001B[0m     new_object_params[name] \u001B[38;5;241m=\u001B[39m clone(param, safe\u001B[38;5;241m=\u001B[39m\u001B[38;5;28;01mFalse\u001B[39;00m)\n\u001B[0;32m--> 110\u001B[0m new_object \u001B[38;5;241m=\u001B[39m \u001B[43mklass\u001B[49m\u001B[43m(\u001B[49m\u001B[38;5;241;43m*\u001B[39;49m\u001B[38;5;241;43m*\u001B[39;49m\u001B[43mnew_object_params\u001B[49m\u001B[43m)\u001B[49m\n\u001B[1;32m    111\u001B[0m \u001B[38;5;28;01mtry\u001B[39;00m:\n\u001B[1;32m    112\u001B[0m     new_object\u001B[38;5;241m.\u001B[39m_metadata_request \u001B[38;5;241m=\u001B[39m copy\u001B[38;5;241m.\u001B[39mdeepcopy(estimator\u001B[38;5;241m.\u001B[39m_metadata_request)\n",
      "\u001B[0;31mTypeError\u001B[0m: Scheme.__init__() got an unexpected keyword argument 'steps'"
     ]
    }
   ],
   "source": [
    "from sklearn.feature_selection import mutual_info_classif\n",
    "from sklearn.feature_selection import SelectPercentile\n",
    "from sklearn.model_selection import GridSearchCV\n",
    "from sklearn.neighbors import KNeighborsClassifier\n",
    "from sklearn.neighbors import LocalOutlierFactor\n",
    "from sklearn.preprocessing import MinMaxScaler\n",
    "\n",
    "scheme_knn = Scheme(pipeline=Pipeline(steps=[\n",
    "    ('scaler', MinMaxScaler()),\n",
    "    ('feature_selector', SelectPercentile(score_func=mutual_info_classif, percentile=50)),\n",
    "    ('classifier', KNeighborsClassifier())\n",
    "]), outlier_detector=LocalOutlierFactor())\n",
    "params_scheme_knn = {'n_neighbours': list(range(1, 31))}\n",
    "gs_scheme_knn = GridSearchCV(estimator=scheme_knn, param_grid=params_scheme_knn, scoring=scorers, refit='ACCURACY',\n",
    "                             n_jobs=-1)\n",
    "logging.info('KNN SCHEME')\n",
    "logging.info('TRAINING')\n",
    "gs_scheme_knn.fit(X=X_train, y=y_train)\n",
    "logging.info('BEST SCORE: ' + gs_scheme_knn.best_score_)\n",
    "logging.info('BEST PARAMS: ' + gs_scheme_knn.best_params_)\n",
    "logging.info('TESTING')\n",
    "y_predict = gs_scheme_knn.predict(X=X_test)"
   ],
   "metadata": {
    "collapsed": false,
    "ExecuteTime": {
     "end_time": "2023-12-24T13:29:48.322195674Z",
     "start_time": "2023-12-24T13:29:48.213286629Z"
    }
   },
   "id": "e40dd6a330a3bb78"
  }
 ],
 "metadata": {
  "kernelspec": {
   "display_name": "Python 3",
   "language": "python",
   "name": "python3"
  },
  "language_info": {
   "codemirror_mode": {
    "name": "ipython",
    "version": 2
   },
   "file_extension": ".py",
   "mimetype": "text/x-python",
   "name": "python",
   "nbconvert_exporter": "python",
   "pygments_lexer": "ipython2",
   "version": "2.7.6"
  }
 },
 "nbformat": 4,
 "nbformat_minor": 5
}
